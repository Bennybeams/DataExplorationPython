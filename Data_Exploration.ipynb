{
  "nbformat": 4,
  "nbformat_minor": 0,
  "metadata": {
    "colab": {
      "name": "Data_Exploration.ipynb",
      "provenance": [],
      "authorship_tag": "ABX9TyPKGhq6NLlKRT+Vn07b95qG",
      "include_colab_link": true
    },
    "kernelspec": {
      "name": "python3",
      "display_name": "Python 3"
    },
    "language_info": {
      "name": "python"
    }
  },
  "cells": [
    {
      "cell_type": "markdown",
      "metadata": {
        "id": "view-in-github",
        "colab_type": "text"
      },
      "source": [
        "<a href=\"https://colab.research.google.com/github/Bennybeams/DataExplorationPython/blob/main/Data_Exploration.ipynb\" target=\"_parent\"><img src=\"https://colab.research.google.com/assets/colab-badge.svg\" alt=\"Open In Colab\"/></a>"
      ]
    },
    {
      "cell_type": "code",
      "source": [
        "!pip install opendatasets"
      ],
      "metadata": {
        "id": "vPP4XgXOYHuc"
      },
      "execution_count": null,
      "outputs": []
    },
    {
      "cell_type": "markdown",
      "source": [
        "Explore data with Python:\n",
        "1. Download the dataset\n",
        "2. Prepare and clean the data\n",
        "3. Analysis and visualization\n",
        "4. Questions and answers"
      ],
      "metadata": {
        "id": "ck3ImmEBXK1O"
      }
    },
    {
      "cell_type": "markdown",
      "source": [
        "**1. Download the dataset**\n",
        "\n",
        "We will use in this course a dataset which gives the price of some material in agriculture. It's a kaggle dataset named agricultural-raw-material-prices-19902020\n",
        "\n",
        "To use it you will need a kaggle account, then go to your account, API, and create a new API token. Use the username and key from the downloaded json.\n",
        "\n",
        "od.download function download the dataset as csv to the root of the working directory."
      ],
      "metadata": {
        "id": "UcpQmZTTXjF7"
      }
    },
    {
      "cell_type": "code",
      "execution_count": null,
      "metadata": {
        "id": "AGya6sANXBlA"
      },
      "outputs": [],
      "source": [
        "dataset_url = 'https://www.kaggle.com/kianwee/agricultural-raw-material-prices-19902020'\n",
        "import opendatasets as od\n",
        "od.download(dataset_url)"
      ]
    },
    {
      "cell_type": "markdown",
      "source": [
        "**2. Data preparation and cleaning**\n",
        "\n",
        "We will use numpy and pandas package to explore our dataset"
      ],
      "metadata": {
        "id": "2tRBX2MIZLZq"
      }
    },
    {
      "cell_type": "code",
      "source": [
        "import numpy as np\n",
        "import pandas as pd"
      ],
      "metadata": {
        "id": "m3xgRgz3ZXir"
      },
      "execution_count": 6,
      "outputs": []
    },
    {
      "cell_type": "markdown",
      "source": [
        "Now we store our dataset into a dataframe"
      ],
      "metadata": {
        "id": "sWwTm71qZjyl"
      }
    },
    {
      "cell_type": "code",
      "source": [
        "df=pd.read_csv('./agricultural-raw-material-prices-19902020/agricultural_raw_material.csv')"
      ],
      "metadata": {
        "id": "61GZovxhZi5r"
      },
      "execution_count": 7,
      "outputs": []
    },
    {
      "cell_type": "markdown",
      "source": [
        "Let's see the size of the dataset, and how much null values we have"
      ],
      "metadata": {
        "id": "ONpQg77udwuO"
      }
    },
    {
      "cell_type": "code",
      "source": [
        "df.isnull()"
      ],
      "metadata": {
        "id": "aOhF5e9a81Bh"
      },
      "execution_count": null,
      "outputs": []
    },
    {
      "cell_type": "code",
      "source": [
        "print(df.shape)\n",
        "#Checking Null Values of each column\n",
        "df.isnull().sum()"
      ],
      "metadata": {
        "id": "fIgx9fAuZ7Gx"
      },
      "execution_count": null,
      "outputs": []
    },
    {
      "cell_type": "markdown",
      "source": [
        "Now let's see a resume of the table"
      ],
      "metadata": {
        "id": "F8g6HQKDeFQJ"
      }
    },
    {
      "cell_type": "code",
      "source": [
        "df.head()"
      ],
      "metadata": {
        "id": "lc8GY8sAeE1x"
      },
      "execution_count": null,
      "outputs": []
    },
    {
      "cell_type": "markdown",
      "source": [
        "**Conclusion**\n",
        "\n",
        "We have some null values, and numeric data as string (the % ones). To use it in analyses we need to convert it into numeric.\n",
        "\n",
        "How to deal with these values ? We will use nothing instead of non numeric character such as %, comma or -, and will use Nan instead of ''."
      ],
      "metadata": {
        "id": "o9PqrhsmeegF"
      }
    },
    {
      "cell_type": "code",
      "source": [
        "# Replacing %, \",\" and \"-\"\n",
        "df = df.replace('%', '')\n",
        "df = df.replace(',', '')\n",
        "df = df.replace('-', '')\n",
        "df = df.replace('', np.nan)\n",
        "#df = df.replace('MAY90', np.nan)\n",
        "# Dropping rows with NaN values\n",
        "df = df.dropna()\n",
        "# Check to see if all NaN values are resolved\n",
        "df.isnull().sum()"
      ],
      "metadata": {
        "id": "LisMpR3heeIF"
      },
      "execution_count": null,
      "outputs": []
    },
    {
      "cell_type": "code",
      "source": [
        "df"
      ],
      "metadata": {
        "id": "kYWydQ5c90xW"
      },
      "execution_count": null,
      "outputs": []
    },
    {
      "cell_type": "markdown",
      "source": [
        "Now let's convert all these values into numeric !"
      ],
      "metadata": {
        "id": "k30qTZsgioMM"
      }
    },
    {
      "cell_type": "code",
      "source": [
        "# Create a list with all the columns names but not the first one (which is not numeric)\n",
        "lst = list(df.columns) \n",
        "del lst[0]\n",
        "# Convert all the column which the name is in this list as float\n",
        "df[lst] = df[lst].astype(\"float\")\n",
        "# Is it correct ?\n",
        "df.dtypes"
      ],
      "metadata": {
        "id": "Ehb1gx93gPZ4"
      },
      "execution_count": null,
      "outputs": []
    },
    {
      "cell_type": "markdown",
      "source": [
        "Now let's format the first column Date, and set it as index for this dataset"
      ],
      "metadata": {
        "id": "wbyRgj5kjNOt"
      }
    },
    {
      "cell_type": "code",
      "source": [
        "df.Month  = pd.to_datetime(df.Month.str.upper(), format='%b%y', yearfirst=False)\n",
        "# Indexing month\n",
        "df = df.set_index('Month')"
      ],
      "metadata": {
        "id": "S_ryaHHPjLuW"
      },
      "execution_count": 11,
      "outputs": []
    },
    {
      "cell_type": "markdown",
      "source": [
        "Month is not a column anymore but replace index 0,1,2,3,etc..."
      ],
      "metadata": {
        "id": "Ii1ur7O_j23i"
      }
    },
    {
      "cell_type": "code",
      "source": [
        "df.head()"
      ],
      "metadata": {
        "id": "9orXbuq5ZgUn"
      },
      "execution_count": null,
      "outputs": []
    },
    {
      "cell_type": "markdown",
      "source": [
        "Dataset is now clean and can be explored"
      ],
      "metadata": {
        "id": "7ukEysGXkRms"
      }
    },
    {
      "cell_type": "markdown",
      "source": [
        "**3. Analysis and Visualization**\n",
        "\n",
        "First we need to import some libraries : Seaborn and Matplotlib"
      ],
      "metadata": {
        "id": "Nno25XM-kXLb"
      }
    },
    {
      "cell_type": "code",
      "source": [
        "import seaborn as sns\n",
        "import matplotlib\n",
        "import matplotlib.pyplot as plt\n",
        "%matplotlib inline\n",
        "\n",
        "sns.set_style('darkgrid')\n",
        "matplotlib.rcParams['font.size'] = 14\n",
        "matplotlib.rcParams['figure.figsize'] = (9, 5)\n",
        "matplotlib.rcParams['figure.facecolor'] = '#00000000'"
      ],
      "metadata": {
        "id": "wJ0PNG3pk4NE"
      },
      "execution_count": 13,
      "outputs": []
    },
    {
      "cell_type": "markdown",
      "source": [
        "Let's now study the correlation between the prices.\n",
        "- First we'll do a correlation matrix between Prices columns (excluding variation columns)\n",
        "- Then we'll present the values in a Heatmap."
      ],
      "metadata": {
        "id": "W0hP9Z6_lb5m"
      }
    },
    {
      "cell_type": "code",
      "source": [
        "#raw-materials list\n",
        "\n",
        "raw_data=list(filter(lambda x : '%' not in x , lst)) # lambda : for any x into lst if x do not contains % then include x\n",
        "raw_data"
      ],
      "metadata": {
        "colab": {
          "base_uri": "https://localhost:8080/"
        },
        "id": "3YgLL6CvldSB",
        "outputId": "e9758b9a-403a-4c21-acf8-c338694fd99f"
      },
      "execution_count": 14,
      "outputs": [
        {
          "output_type": "execute_result",
          "data": {
            "text/plain": [
              "['Coarse wool Price',\n",
              " 'Copra Price',\n",
              " 'Cotton Price',\n",
              " 'Fine wool Price',\n",
              " 'Hard log Price',\n",
              " 'Hard sawnwood Price',\n",
              " 'Hide Price',\n",
              " 'Plywood Price',\n",
              " 'Rubber Price',\n",
              " 'Softlog Price',\n",
              " 'Soft sawnwood Price',\n",
              " 'Wood pulp Price']"
            ]
          },
          "metadata": {},
          "execution_count": 14
        }
      ]
    },
    {
      "cell_type": "code",
      "source": [
        "#getting the correlation matrix\n",
        "corrmat = df[raw_data].corr()\n",
        "corrmat"
      ],
      "metadata": {
        "id": "PygkMQzEmi8h"
      },
      "execution_count": null,
      "outputs": []
    },
    {
      "cell_type": "code",
      "source": [
        "#setting the size of plot\n",
        "plt.figure(figsize = (12, 9))\n",
        "#masking the upper traingle part since matrix is symmetric(repetitive)\n",
        "sns.heatmap(corrmat, vmax = 1, annot = True)\n",
        "plt.show() "
      ],
      "metadata": {
        "id": "v_jvAgrKml0h"
      },
      "execution_count": null,
      "outputs": []
    },
    {
      "cell_type": "markdown",
      "source": [
        "As we don't need to have all the values (same couple have the same correlation and as an item will have a correlation of 1 with itself) we would like to apply a mask to remove unecessary values."
      ],
      "metadata": {
        "id": "oLALOFStfaF-"
      }
    },
    {
      "cell_type": "code",
      "source": [
        "mask = np.triu(np.ones_like(corrmat)) #create a matrix with 1 for unwanted values\n",
        "print(mask)\n",
        "plt.figure(figsize = (12, 9))\n",
        "sns.heatmap(corrmat, vmax = 1,mask=mask, annot = True) #apply the mask to remove unwanted values from the plot\n",
        "plt.show()"
      ],
      "metadata": {
        "id": "vbgThbYcVRau"
      },
      "execution_count": null,
      "outputs": []
    },
    {
      "cell_type": "markdown",
      "source": [
        "We can say that there is some correlations between the prices. Per example, Fine wool Price is correlated with Coarse wool Price (which looks logical).\n",
        "Now let's see the correlation between the evolutions"
      ],
      "metadata": {
        "id": "9uwycYDdggwl"
      }
    },
    {
      "cell_type": "code",
      "source": [
        "#raw-materials list\n",
        "changelist=list(filter(lambda x : '%' in x , lst)) #lambda : for any x into lst if x do contains % then include x\n",
        "changelist"
      ],
      "metadata": {
        "id": "6-2QFoYGUGHL"
      },
      "execution_count": null,
      "outputs": []
    },
    {
      "cell_type": "code",
      "source": [
        "#getting the correlation matrix\n",
        "corrmat = df[changelist].corr()\n",
        "corrmat"
      ],
      "metadata": {
        "id": "7SdstIREg6Ni"
      },
      "execution_count": null,
      "outputs": []
    },
    {
      "cell_type": "code",
      "source": [
        "mask = np.triu(np.ones_like(corrmat)) #create a matrix with 1 for unwanted values\n",
        "plt.figure(figsize=(30,15))\n",
        "sns.heatmap(corrmat, vmax = 1,mask=mask, annot = True) #apply the mask to remove unwanted values from the plot\n",
        "plt.show()"
      ],
      "metadata": {
        "id": "5rQmzI5GhSqm"
      },
      "execution_count": null,
      "outputs": []
    },
    {
      "cell_type": "markdown",
      "source": [
        "**Conclusion**\n",
        "\n",
        "Where prices may be correlated, we can see that price evolution are not really.\n",
        "\n",
        "As refresh :\n",
        "- Coefficient close to 0 means that there is no correlation\n",
        "- Coefficient close to 0.476 means that there is a moderate correlation\n",
        "- Coefficient close to 1 means that there is a strong correlation\n",
        "- Coefficient close to -1 means that there is a strong negative correlation (if one grows, the other one decrease) "
      ],
      "metadata": {
        "id": "iKjKP2XVidr3"
      }
    },
    {
      "cell_type": "markdown",
      "source": [
        "Let's now plot information about the wool.\n",
        "We want have a line plot for each column containing 'wool' string. This may be done in only one line in Python."
      ],
      "metadata": {
        "id": "SdevHmHcmRpI"
      }
    },
    {
      "cell_type": "code",
      "source": [
        "productList = list(filter(lambda x : 'wool' in x,lst))\n",
        "productPlot = df[productList].plot(figsize=(30,15), subplots=True, linewidth=1)"
      ],
      "metadata": {
        "id": "JwVb_Aacjulf"
      },
      "execution_count": null,
      "outputs": []
    },
    {
      "cell_type": "markdown",
      "source": [
        "We could also want to compare the prices between wool and coton per example (without the evolution)"
      ],
      "metadata": {
        "id": "GfOWZvAzspZF"
      }
    },
    {
      "cell_type": "code",
      "source": [
        "productList = list(filter(lambda x : ('Coarse wool' in x or 'Cotton' in x) and '%' not in x,lst))\n",
        "productPlot = df[productList].plot(figsize=(30,15), subplots=True, linewidth=1)"
      ],
      "metadata": {
        "id": "ZxQODZwTsngu"
      },
      "execution_count": null,
      "outputs": []
    },
    {
      "cell_type": "markdown",
      "source": [
        "**4. Questions and answers**\n",
        "\n",
        "**4.1 - What is the usual price change for each raw material ? What is the more and the less stable price ?**\n",
        "\n",
        "This can be answered with a density plot of the price change % for each raw material."
      ],
      "metadata": {
        "id": "geMEaYBKSgfH"
      }
    },
    {
      "cell_type": "code",
      "source": [
        "changelist=list(filter(lambda x : '%' in x,lst))\n",
        "distribplot=df[changelist].plot.density(figsize=(30,15), linewidth=1)\n",
        "distribplot.set_xlim(-20,20)"
      ],
      "metadata": {
        "id": "97MQ2RXzSgDp"
      },
      "execution_count": null,
      "outputs": []
    },
    {
      "cell_type": "markdown",
      "source": [
        "**Answer**\n",
        "\n",
        "- Regular variations are between around -2% and +6%\n",
        "- The more stable price is for Hard sawnwood (narrowest distribution)\n",
        "- The less stable price is for Wood pulp (widest distribution)"
      ],
      "metadata": {
        "id": "aknDGL7RivJR"
      }
    },
    {
      "cell_type": "markdown",
      "source": [
        "**4.2 - What material have the lowest price over the years**\n",
        "\n",
        "To see the evolution, the first approach is to make a line plot with all the materials and compare."
      ],
      "metadata": {
        "id": "uic44mWCm1r7"
      }
    },
    {
      "cell_type": "code",
      "source": [
        "priceList=list(filter(lambda x : '%' not in x,lst))\n",
        "pricePlot = df[priceList].plot(figsize=(30,15), linewidth=1)\n",
        "plt.suptitle(\"Raw-Materials price comparision\")"
      ],
      "metadata": {
        "id": "cDY-tldktSoP"
      },
      "execution_count": null,
      "outputs": []
    },
    {
      "cell_type": "markdown",
      "source": [
        "It looks like cotton and rubber price are very low as they are stuck at the bottom of the plot. Let's confirm that by plotting each chart separately in a chart table."
      ],
      "metadata": {
        "id": "zY6ycOJbnObU"
      }
    },
    {
      "cell_type": "code",
      "source": [
        "plt.figure(figsize=(20, 10))\n",
        "for i in range(len(priceList)):\n",
        "    plt.subplot(4,3,i+1)\n",
        "    plt.subplots_adjust( hspace=1 ,wspace=0.5)\n",
        "    plt.title(priceList[i])\n",
        "    plt.plot(df[priceList[i]])\n",
        "    plt.xticks(rotation=45)\n",
        "plt.suptitle(\"Raw-Materials price comparision\")"
      ],
      "metadata": {
        "id": "oKynG1kSn5IH"
      },
      "execution_count": null,
      "outputs": []
    },
    {
      "cell_type": "markdown",
      "source": [
        "It's confirmed : with a price at around 5 at maximum rubber and cotton are the cheapest materials."
      ],
      "metadata": {
        "id": "C3JLOPqPoncj"
      }
    }
  ]
}