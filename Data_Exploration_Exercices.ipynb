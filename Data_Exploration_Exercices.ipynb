{
  "nbformat": 4,
  "nbformat_minor": 0,
  "metadata": {
    "colab": {
      "name": "Data_Exploration_Exercices.ipynb",
      "provenance": [],
      "authorship_tag": "ABX9TyNSJjNN6PDrDCJ2geAxByZP",
      "include_colab_link": true
    },
    "kernelspec": {
      "name": "python3",
      "display_name": "Python 3"
    },
    "language_info": {
      "name": "python"
    }
  },
  "cells": [
    {
      "cell_type": "markdown",
      "metadata": {
        "id": "view-in-github",
        "colab_type": "text"
      },
      "source": [
        "<a href=\"https://colab.research.google.com/github/Bennybeams/DataExplorationPython/blob/main/Data_Exploration_Exercices.ipynb\" target=\"_parent\"><img src=\"https://colab.research.google.com/assets/colab-badge.svg\" alt=\"Open In Colab\"/></a>"
      ]
    },
    {
      "cell_type": "markdown",
      "source": [
        "# KAGGLE"
      ],
      "metadata": {
        "id": "0nkDWyP7gYoJ"
      }
    },
    {
      "cell_type": "code",
      "execution_count": null,
      "metadata": {
        "id": "G891stCZQPnW"
      },
      "outputs": [],
      "source": [
        "!pip install opendatasets"
      ]
    },
    {
      "cell_type": "code",
      "source": [
        "import opendatasets as od\n",
        "import pandas as pd\n",
        "\n",
        "dataset_url = 'https://www.kaggle.com/datasets/arianazmoudeh/airbnbopendata/download?datasetVersionNumber=1'\n",
        "od.download(dataset_url)\n",
        "df=pd.read_csv('/content/airbnbopendata/Airbnb_Open_Data.csv')\n",
        "df.head()"
      ],
      "metadata": {
        "id": "-BnvmVawQlpS"
      },
      "execution_count": null,
      "outputs": []
    },
    {
      "cell_type": "markdown",
      "source": [
        "# NUMPY"
      ],
      "metadata": {
        "id": "ny2zs6yygdVD"
      }
    },
    {
      "cell_type": "code",
      "source": [
        "import numpy as np\n",
        "x = np.array([1, 1, 2, 2, 3, 3, 1, 1, 1, 1, 1, 1])\n",
        "print(x)\n",
        "print(x.shape)"
      ],
      "metadata": {
        "id": "j82RTw5AgV1D"
      },
      "execution_count": null,
      "outputs": []
    },
    {
      "cell_type": "code",
      "source": [
        "x = x.reshape(4,3)\n",
        "print(x)\n",
        "print(x.shape)"
      ],
      "metadata": {
        "id": "8fzpNwTF-1-q"
      },
      "execution_count": null,
      "outputs": []
    },
    {
      "cell_type": "code",
      "source": [
        "x = x.reshape(2,2,3)\n",
        "print(x)\n",
        "print(x.shape)"
      ],
      "metadata": {
        "id": "Td4wP28umjlg"
      },
      "execution_count": null,
      "outputs": []
    },
    {
      "cell_type": "code",
      "source": [
        "print(x[0])"
      ],
      "metadata": {
        "id": "JVS7YIwA_Nu9"
      },
      "execution_count": null,
      "outputs": []
    },
    {
      "cell_type": "code",
      "source": [
        "print(x[0,0])"
      ],
      "metadata": {
        "id": "cRatWnTm_jKc"
      },
      "execution_count": null,
      "outputs": []
    },
    {
      "cell_type": "code",
      "source": [
        "np.zeros(2)"
      ],
      "metadata": {
        "id": "prTMHK-mIz4m"
      },
      "execution_count": null,
      "outputs": []
    },
    {
      "cell_type": "code",
      "source": [
        "np.ones(2)"
      ],
      "metadata": {
        "id": "3Jk0dxxzI4Ds"
      },
      "execution_count": null,
      "outputs": []
    },
    {
      "cell_type": "code",
      "source": [
        "np.ones(3,int)"
      ],
      "metadata": {
        "id": "V6Eww2S3KFxn"
      },
      "execution_count": null,
      "outputs": []
    },
    {
      "cell_type": "code",
      "source": [
        "np.empty(5)"
      ],
      "metadata": {
        "id": "AVrYJ3_BKXqU"
      },
      "execution_count": null,
      "outputs": []
    },
    {
      "cell_type": "code",
      "source": [
        "np.arange(4)"
      ],
      "metadata": {
        "id": "7Pc0VCq5K0JS"
      },
      "execution_count": null,
      "outputs": []
    },
    {
      "cell_type": "code",
      "source": [
        "np.arange(2, 9, 2)"
      ],
      "metadata": {
        "id": "cEJ-V7lQK3Fw"
      },
      "execution_count": null,
      "outputs": []
    },
    {
      "cell_type": "code",
      "source": [
        "np.empty([3,2])"
      ],
      "metadata": {
        "id": "cCpARy0qNhZO"
      },
      "execution_count": null,
      "outputs": []
    },
    {
      "cell_type": "code",
      "source": [
        "a = np.arange(6)\n",
        "a = a.reshape(2,3)\n",
        "print(a)\n",
        "a[0,2] = 0\n",
        "a[(a.shape[0]-1),(a.shape[1]-1)] = np.sum(a)\n",
        "print(a)"
      ],
      "metadata": {
        "id": "2fWKvBLmPngc"
      },
      "execution_count": null,
      "outputs": []
    },
    {
      "cell_type": "code",
      "source": [
        "m = np.arange(16)\n",
        "m = m.reshape(4,4)\n",
        "m"
      ],
      "metadata": {
        "id": "co528EctmQ2G"
      },
      "execution_count": null,
      "outputs": []
    },
    {
      "cell_type": "code",
      "source": [
        "np.triu(m)"
      ],
      "metadata": {
        "id": "9YHuOdVJnUG8"
      },
      "execution_count": null,
      "outputs": []
    },
    {
      "cell_type": "code",
      "source": [
        "np.tril(m)"
      ],
      "metadata": {
        "id": "YIFXFdE4nlEy"
      },
      "execution_count": null,
      "outputs": []
    },
    {
      "cell_type": "code",
      "source": [
        "np.triu(m,1)"
      ],
      "metadata": {
        "id": "Vi2buvPgnqan"
      },
      "execution_count": null,
      "outputs": []
    },
    {
      "cell_type": "code",
      "source": [
        "np.triu(m,-1)"
      ],
      "metadata": {
        "id": "s6iNKrUonx_o"
      },
      "execution_count": null,
      "outputs": []
    },
    {
      "cell_type": "code",
      "source": [
        "x = np.arange(6)\n",
        "x = x.reshape((2, 3))\n",
        "x"
      ],
      "metadata": {
        "id": "SDY_0Kr3qoEi"
      },
      "execution_count": null,
      "outputs": []
    },
    {
      "cell_type": "code",
      "source": [
        "np.zeros_like(x)"
      ],
      "metadata": {
        "id": "MaNMGOGvq3N6"
      },
      "execution_count": null,
      "outputs": []
    },
    {
      "cell_type": "code",
      "source": [
        "np.ones_like(x)"
      ],
      "metadata": {
        "id": "kLwh1-Shq6zG"
      },
      "execution_count": null,
      "outputs": []
    },
    {
      "cell_type": "code",
      "source": [
        "np.full_like(x,2)"
      ],
      "metadata": {
        "id": "yd8O-aCDq-il"
      },
      "execution_count": null,
      "outputs": []
    },
    {
      "cell_type": "code",
      "source": [
        "np.full_like(x,2,float)"
      ],
      "metadata": {
        "id": "JhzXbCXRrHJx"
      },
      "execution_count": null,
      "outputs": []
    },
    {
      "cell_type": "code",
      "source": [
        "a = np.arange(6)\n",
        "a = a.reshape(2,3)\n",
        "print(\"Matrice 1\")\n",
        "print(a)\n",
        "a[0,2] = 0\n",
        "print(\"Matrice 2\")\n",
        "print(a)\n",
        "a[(a.shape[0]-1),(a.shape[1]-1)] = np.sum(a)\n",
        "print(\"Matrice 3\")\n",
        "print(a)"
      ],
      "metadata": {
        "id": "-ynak4XY9jhS"
      },
      "execution_count": null,
      "outputs": []
    },
    {
      "cell_type": "markdown",
      "source": [
        "# PANDAS"
      ],
      "metadata": {
        "id": "lvSmaAvyEt3E"
      }
    },
    {
      "cell_type": "code",
      "source": [
        "import numpy as np\n",
        "import pandas as pd\n",
        "ar = np.array([[1.1, 2, 3.3, 4], [2.7, 10, 5.4, 7], [5.3, 9, 1.5, 15]])\n",
        "print(\"Array:\")\n",
        "print(ar)\n",
        "df = pd.DataFrame(ar, \n",
        "                  index = ['a1', 'a2', 'a3'], \n",
        "                  columns = ['A', 'B', 'C', 'D'])\n",
        "print(\"Dataframe:\")\n",
        "df"
      ],
      "metadata": {
        "id": "T2pqFOo2ExJv"
      },
      "execution_count": null,
      "outputs": []
    },
    {
      "cell_type": "code",
      "source": [
        "ar[0,0] = 23\n",
        "df"
      ],
      "metadata": {
        "id": "w3p3KvC5GFPj"
      },
      "execution_count": null,
      "outputs": []
    },
    {
      "cell_type": "code",
      "source": [
        "dic = {'Nom': ['Marcel', 'Eugénie', 'Léon'], \n",
        "       'Age': [56, 32, 25], \n",
        "       'Taille': [182, 167, 172], \n",
        "       'Poids': [79, 58, 62]}\n",
        "df1 = pd.DataFrame(dic)\n",
        "df1"
      ],
      "metadata": {
        "id": "NOQasvDvHs__"
      },
      "execution_count": null,
      "outputs": []
    },
    {
      "cell_type": "code",
      "source": [
        "df2 = pd.DataFrame(columns = ['Nom', 'Prénom'])\n",
        "df2"
      ],
      "metadata": {
        "id": "Y8Ga9DMEKciJ"
      },
      "execution_count": null,
      "outputs": []
    },
    {
      "cell_type": "code",
      "source": [
        "df2 = pd.DataFrame(columns = ['Nom', 'Prénom'],\n",
        "                  index = ['Employé 1','Employé 2'])\n",
        "df2"
      ],
      "metadata": {
        "id": "jUlf2k9SKpy8"
      },
      "execution_count": null,
      "outputs": []
    },
    {
      "cell_type": "code",
      "source": [
        "df1.info()"
      ],
      "metadata": {
        "id": "FQ8Us3_TNRWY"
      },
      "execution_count": null,
      "outputs": []
    },
    {
      "cell_type": "code",
      "source": [
        "df1.head(2)"
      ],
      "metadata": {
        "id": "uDOzfCAsNW9l"
      },
      "execution_count": null,
      "outputs": []
    },
    {
      "cell_type": "code",
      "source": [
        "df1.tail(2)"
      ],
      "metadata": {
        "id": "uoDAkqE-Nbqu"
      },
      "execution_count": null,
      "outputs": []
    },
    {
      "cell_type": "code",
      "source": [
        "df1.columns"
      ],
      "metadata": {
        "id": "-ejUIyZoNu37"
      },
      "execution_count": null,
      "outputs": []
    },
    {
      "cell_type": "code",
      "source": [
        "df2.index"
      ],
      "metadata": {
        "id": "K0Nw-B5vQw-8"
      },
      "execution_count": null,
      "outputs": []
    },
    {
      "cell_type": "code",
      "source": [
        "df1.describe(include='all')"
      ],
      "metadata": {
        "id": "vV_ljz9qQ7nW"
      },
      "execution_count": null,
      "outputs": []
    },
    {
      "cell_type": "code",
      "source": [
        "dataset_url = ( 'https://www.kaggle.com/'\n",
        "                'datasets/himanshunakrani/'\n",
        "                'student-study-hours/download?datasetVersionNumber=1')\n",
        "od.download(dataset_url, force=True)\n",
        "df3 = pd.read_csv('./student-study-hours/score.csv')\n",
        "df3.head()"
      ],
      "metadata": {
        "id": "0XkyHa2zGd0n"
      },
      "execution_count": null,
      "outputs": []
    },
    {
      "cell_type": "code",
      "source": [
        "df3.corr()"
      ],
      "metadata": {
        "id": "SKNPVQ-wHXa0"
      },
      "execution_count": null,
      "outputs": []
    },
    {
      "cell_type": "code",
      "source": [
        "dataset_url = ( 'https://raw.githubusercontent.com/'\n",
        "                'fivethirtyeight/data/master/'\n",
        "                'college-majors/recent-grads.csv')\n",
        "df4 = pd.read_csv(dataset_url)\n",
        "df4.head(10)"
      ],
      "metadata": {
        "id": "_C87l7F7J2SR"
      },
      "execution_count": null,
      "outputs": []
    },
    {
      "cell_type": "code",
      "source": [
        "df4.isnull().sum()"
      ],
      "metadata": {
        "id": "3pEjjBbCKWJE"
      },
      "execution_count": null,
      "outputs": []
    },
    {
      "cell_type": "code",
      "source": [
        "df4.dtypes"
      ],
      "metadata": {
        "id": "VhG6-EFjKf54"
      },
      "execution_count": null,
      "outputs": []
    },
    {
      "cell_type": "code",
      "source": [
        "df4.iloc[:,0:2]=df4.iloc[:,0:2].astype(\"object\")\n",
        "df4.dtypes"
      ],
      "metadata": {
        "id": "x1vURjjZKvCk"
      },
      "execution_count": null,
      "outputs": []
    },
    {
      "cell_type": "code",
      "source": [
        "df4.loc[df4['Major_category'] == 'Engineering', 'Total'].sum()"
      ],
      "metadata": {
        "id": "F-FI_h_4ZE0A"
      },
      "execution_count": null,
      "outputs": []
    },
    {
      "cell_type": "markdown",
      "source": [
        "# MATPLOTLIB"
      ],
      "metadata": {
        "id": "6velxpB6ridd"
      }
    },
    {
      "cell_type": "code",
      "source": [
        "import matplotlib\n",
        "import seaborn as sns\n",
        "import matplotlib.pyplot as plt\n",
        "import numpy as np\n",
        "\n",
        "x = np.array([0, 6])\n",
        "y = np.array([0, 250])\n",
        "\n",
        "plt.plot(x, y)\n",
        "plt.show()"
      ],
      "metadata": {
        "id": "mVUrcDDrrlVp"
      },
      "execution_count": null,
      "outputs": []
    },
    {
      "cell_type": "code",
      "source": [
        "plt.plot(x, y, 'o')\n",
        "plt.show()"
      ],
      "metadata": {
        "id": "Udz9Z-P7v7BF"
      },
      "execution_count": null,
      "outputs": []
    },
    {
      "cell_type": "code",
      "source": [
        "x = np.array([1, 2, 6, 8])\n",
        "y = np.array([3, 8, 1, 10])\n",
        "plt.plot(x, y)\n",
        "plt.show()"
      ],
      "metadata": {
        "id": "iyvoa1ZHx7vT"
      },
      "execution_count": null,
      "outputs": []
    },
    {
      "cell_type": "code",
      "source": [
        "y = np.array([3, 8, 1, 10])\n",
        "plt.plot(y)\n",
        "plt.show()"
      ],
      "metadata": {
        "id": "bq4nSJPXy4VC"
      },
      "execution_count": null,
      "outputs": []
    },
    {
      "cell_type": "code",
      "source": [
        "x = np.array([\"A\", \"B\", \"C\", \"D\"])\n",
        "y = np.array([3, 8, 1, 10])\n",
        "\n",
        "plt.bar(x,y)\n",
        "plt.show()"
      ],
      "metadata": {
        "id": "js75JsAMz7-Q"
      },
      "execution_count": null,
      "outputs": []
    },
    {
      "cell_type": "code",
      "source": [
        "x = df4['Major_category']\n",
        "y = df4['Total']\n",
        "\n",
        "matplotlib.rcParams['font.size'] = 16\n",
        "matplotlib.rcParams['figure.figsize'] = (20, 5)\n",
        "plt.xticks(rotation = 90)\n",
        "plt.bar(x,y)\n",
        "plt.show()"
      ],
      "metadata": {
        "id": "QRekXWah094a"
      },
      "execution_count": null,
      "outputs": []
    }
  ]
}